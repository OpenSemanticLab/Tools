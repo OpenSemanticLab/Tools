{
 "cells": [
  {
   "cell_type": "code",
   "execution_count": null,
   "id": "a066d62f-badd-422e-b3ab-2c274a72bc4c",
   "metadata": {},
   "outputs": [],
   "source": [
    "from pprint import pprint\n",
    "import copy\n",
    "\n",
    "\n"
   ]
  },
  {
   "cell_type": "code",
   "execution_count": 76,
   "id": "816c07d7-1029-484a-90a9-55066ac759aa",
   "metadata": {},
   "outputs": [],
   "source": [
    "#register('get_raw', {in: {}, out: {raw: raw_meta}} \n",
    "def get_raw(obj, opt=None):\n",
    "    opt_default={'debug': True, 'eer':2}\n",
    "    if not opt is None:\n",
    "        opt = {**opt_default, **opt}\n",
    "    else: opt = opt_default\n",
    "    \n",
    "    uuid = '0001'\n",
    "    hist = {}\n",
    "    if opt['debug']: hist['data'] = copy.deepcopy(obj['data'])\n",
    "    if opt['debug']: hist['map'] = copy.deepcopy(obj['map'])\n",
    "\n",
    "    if not 'raw' in obj['data']: obj['data']['raw'] = []\n",
    "    index = len(obj['data']['raw'])\n",
    "    obj['data']['raw'].append([1,2,3,4])\n",
    "\n",
    "    if not 'raw' in obj['meta']: obj['meta']['raw'] = []\n",
    "    obj['meta']['raw'].append({'type': \"list\", 'dim': 1, 'name': \"RawVoltage\", 'label': {'de':\"Spannung\"}, 'quant': \"qudt:Voltage\", 'unit':\"qudt:mV\", 'test':{'nested': \"value\"}})\n",
    "\n",
    "    hist['func'] = {'func_id': uuid, 'name': \"get_raw\", 'time':\"...\", 'opt':opt}\n",
    "    obj['hist'].append(hist)\n",
    "    \n",
    "    return obj\n",
    "    \n",
    "def get_raw2(obj, opt=None):\n",
    "    opt_default={'debug': True, 'eer':2}\n",
    "    if not opt is None:\n",
    "        opt = {**opt_default, **opt}\n",
    "    else: opt = opt_default\n",
    "    \n",
    "    uuid = '0002'\n",
    "    hist = {}\n",
    "    if opt['debug']: hist['data'] = copy.deepcopy(obj['data'])\n",
    "    if opt['debug']: hist['map'] = copy.deepcopy(obj['map'])\n",
    "\n",
    "    if not 'raw2' in obj['data']: obj['data']['raw2'] = []\n",
    "    index = len(obj['data']['raw2'])\n",
    "    obj['data']['raw2'].append([1,2,3,4])\n",
    "\n",
    "    if not 'raw2' in obj['meta']: obj['meta']['raw2'] = []\n",
    "    obj['meta']['raw2'].append({'type': \"list\", 'dim': 1, 'name': \"RawVoltage\", 'label': {'de':\"Spannung\"}, 'quant': \"qudt:Voltage\", 'unit':\"qudt:mV\"})\n",
    "\n",
    "    hist['func'] = {'func_id': uuid, 'name': \"get_raw2\", 'time':\"...\", 'opt':opt}\n",
    "    obj['hist'].append(hist)\n",
    "\n",
    "    return obj\n"
   ]
  },
  {
   "cell_type": "code",
   "execution_count": null,
   "id": "ccce16bb-d5bc-405f-9856-cf628b1d228a",
   "metadata": {},
   "outputs": [],
   "source": []
  },
  {
   "cell_type": "code",
   "execution_count": null,
   "id": "698089c2-909a-4bd0-8f8e-6c1a55579e7f",
   "metadata": {},
   "outputs": [],
   "source": [
    "map = {\n",
    "\tx: {data: {index:, meta:{name:\"RawVoltage\"}}},\n",
    "\tlabel: {meta: {key: 'label', lang: 'de'}},\n",
    "    debug: False(obj) => obj['data']['raw'] = 0 \n",
    "}"
   ]
  },
  {
   "cell_type": "code",
   "execution_count": null,
   "id": "92c6a0d0-81b0-4186-bc8f-99d50c7f7a58",
   "metadata": {},
   "outputs": [],
   "source": [
    "register('plot', {in: {x: {type: \"numpy\"}, label {type:\"string\"}}, out: {raw}} \n",
    "func plot(obj, opt={debug: true}) {\n",
    "...33\n",
    "}"
   ]
  },
  {
   "cell_type": "code",
   "execution_count": null,
   "id": "38290c6f-744c-414d-92e5-f3c66ecaea75",
   "metadata": {},
   "outputs": [],
   "source": [
    "obj.exec({\n",
    "    f: \"raw_data\",\n",
    "    x: {data: {index:, meta:{name:\"RawVoltage\"}}},\n",
    "    label: {meta: {key: 'label', lang: 'de'}},\n",
    "    debug: False(obj) => obj['data']['raw'] = 0 \n",
    "}).exec({\n",
    "    x: {data: {index:, meta:{name:\"RawVoltage\"}}},\n",
    "    label: {meta: {key: 'label', lang: 'de'}},\n",
    "    debug: False(obj) => obj['data']['raw'] = 0 \n",
    "})"
   ]
  },
  {
   "cell_type": "code",
   "execution_count": null,
   "id": "6d2aa0b2-0cfc-40ad-b6b0-2ed733a5538c",
   "metadata": {},
   "outputs": [],
   "source": [
    "def obj.exec(mapping):\n",
    "    eval(mapping['f'] + \"(self)\")\n",
    "    raw_data(self, mapping)\n",
    "    \n"
   ]
  },
  {
   "cell_type": "code",
   "execution_count": null,
   "id": "11bbe7d6-746c-45e9-889b-0deb231a663e",
   "metadata": {},
   "outputs": [],
   "source": []
  }
 ],
 "metadata": {
  "kernelspec": {
   "display_name": "Python [conda env:.conda-dev]",
   "language": "python",
   "name": "conda-env-.conda-dev-py"
  },
  "language_info": {
   "codemirror_mode": {
    "name": "ipython",
    "version": 3
   },
   "file_extension": ".py",
   "mimetype": "text/x-python",
   "name": "python",
   "nbconvert_exporter": "python",
   "pygments_lexer": "ipython3",
   "version": "3.10.0"
  }
 },
 "nbformat": 4,
 "nbformat_minor": 5
}
